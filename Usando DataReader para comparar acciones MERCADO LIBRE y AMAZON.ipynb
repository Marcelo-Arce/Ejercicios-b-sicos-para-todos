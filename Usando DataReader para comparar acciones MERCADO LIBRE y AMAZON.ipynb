{
 "cells": [
  {
   "cell_type": "code",
   "execution_count": 1,
   "metadata": {},
   "outputs": [],
   "source": [
    "import pandas as pd\n",
    "from pandas_datareader import data as pdr\n"
   ]
  },
  {
   "cell_type": "code",
   "execution_count": 13,
   "metadata": {
    "scrolled": true
   },
   "outputs": [],
   "source": [
    "bd1 = pdr.DataReader(\"MELI\",\"yahoo\",\"20150101\",\"20200101\")"
   ]
  },
  {
   "cell_type": "code",
   "execution_count": 14,
   "metadata": {},
   "outputs": [
    {
     "data": {
      "text/html": [
       "<div>\n",
       "<style scoped>\n",
       "    .dataframe tbody tr th:only-of-type {\n",
       "        vertical-align: middle;\n",
       "    }\n",
       "\n",
       "    .dataframe tbody tr th {\n",
       "        vertical-align: top;\n",
       "    }\n",
       "\n",
       "    .dataframe thead th {\n",
       "        text-align: right;\n",
       "    }\n",
       "</style>\n",
       "<table border=\"1\" class=\"dataframe\">\n",
       "  <thead>\n",
       "    <tr style=\"text-align: right;\">\n",
       "      <th></th>\n",
       "      <th>High</th>\n",
       "      <th>Low</th>\n",
       "      <th>Open</th>\n",
       "      <th>Close</th>\n",
       "      <th>Volume</th>\n",
       "      <th>Adj Close</th>\n",
       "    </tr>\n",
       "    <tr>\n",
       "      <th>Date</th>\n",
       "      <th></th>\n",
       "      <th></th>\n",
       "      <th></th>\n",
       "      <th></th>\n",
       "      <th></th>\n",
       "      <th></th>\n",
       "    </tr>\n",
       "  </thead>\n",
       "  <tbody>\n",
       "    <tr>\n",
       "      <th>2015-01-02</th>\n",
       "      <td>128.309998</td>\n",
       "      <td>124.559998</td>\n",
       "      <td>127.900002</td>\n",
       "      <td>125.849998</td>\n",
       "      <td>207900.0</td>\n",
       "      <td>124.582504</td>\n",
       "    </tr>\n",
       "    <tr>\n",
       "      <th>2015-01-05</th>\n",
       "      <td>125.809998</td>\n",
       "      <td>122.760002</td>\n",
       "      <td>124.860001</td>\n",
       "      <td>124.300003</td>\n",
       "      <td>335600.0</td>\n",
       "      <td>123.048119</td>\n",
       "    </tr>\n",
       "    <tr>\n",
       "      <th>2015-01-06</th>\n",
       "      <td>126.339996</td>\n",
       "      <td>121.360001</td>\n",
       "      <td>124.930000</td>\n",
       "      <td>122.080002</td>\n",
       "      <td>233900.0</td>\n",
       "      <td>120.850479</td>\n",
       "    </tr>\n",
       "    <tr>\n",
       "      <th>2015-01-07</th>\n",
       "      <td>124.290001</td>\n",
       "      <td>121.309998</td>\n",
       "      <td>123.309998</td>\n",
       "      <td>121.839996</td>\n",
       "      <td>227200.0</td>\n",
       "      <td>120.612877</td>\n",
       "    </tr>\n",
       "    <tr>\n",
       "      <th>2015-01-08</th>\n",
       "      <td>125.639999</td>\n",
       "      <td>122.550003</td>\n",
       "      <td>123.110001</td>\n",
       "      <td>123.660004</td>\n",
       "      <td>370400.0</td>\n",
       "      <td>122.414551</td>\n",
       "    </tr>\n",
       "  </tbody>\n",
       "</table>\n",
       "</div>"
      ],
      "text/plain": [
       "                  High         Low        Open       Close    Volume  \\\n",
       "Date                                                                   \n",
       "2015-01-02  128.309998  124.559998  127.900002  125.849998  207900.0   \n",
       "2015-01-05  125.809998  122.760002  124.860001  124.300003  335600.0   \n",
       "2015-01-06  126.339996  121.360001  124.930000  122.080002  233900.0   \n",
       "2015-01-07  124.290001  121.309998  123.309998  121.839996  227200.0   \n",
       "2015-01-08  125.639999  122.550003  123.110001  123.660004  370400.0   \n",
       "\n",
       "             Adj Close  \n",
       "Date                    \n",
       "2015-01-02  124.582504  \n",
       "2015-01-05  123.048119  \n",
       "2015-01-06  120.850479  \n",
       "2015-01-07  120.612877  \n",
       "2015-01-08  122.414551  "
      ]
     },
     "execution_count": 14,
     "metadata": {},
     "output_type": "execute_result"
    }
   ],
   "source": [
    "bd1.head(5)"
   ]
  },
  {
   "cell_type": "code",
   "execution_count": 16,
   "metadata": {},
   "outputs": [],
   "source": [
    "bd2 = pdr.DataReader(\"AMZN\", \"yahoo\", \"20150101\",\"20200101\")"
   ]
  },
  {
   "cell_type": "code",
   "execution_count": 17,
   "metadata": {},
   "outputs": [],
   "source": [
    "bd_joined= bd1.join(bd2, lsuffix = \"_MELI\", rsuffix = \"_AMZN\")"
   ]
  },
  {
   "cell_type": "code",
   "execution_count": 18,
   "metadata": {},
   "outputs": [
    {
     "data": {
      "text/html": [
       "<div>\n",
       "<style scoped>\n",
       "    .dataframe tbody tr th:only-of-type {\n",
       "        vertical-align: middle;\n",
       "    }\n",
       "\n",
       "    .dataframe tbody tr th {\n",
       "        vertical-align: top;\n",
       "    }\n",
       "\n",
       "    .dataframe thead th {\n",
       "        text-align: right;\n",
       "    }\n",
       "</style>\n",
       "<table border=\"1\" class=\"dataframe\">\n",
       "  <thead>\n",
       "    <tr style=\"text-align: right;\">\n",
       "      <th></th>\n",
       "      <th>High_MELI</th>\n",
       "      <th>Low_MELI</th>\n",
       "      <th>Open_MELI</th>\n",
       "      <th>Close_MELI</th>\n",
       "      <th>Volume_MELI</th>\n",
       "      <th>Adj Close_MELI</th>\n",
       "      <th>High_AMZN</th>\n",
       "      <th>Low_AMZN</th>\n",
       "      <th>Open_AMZN</th>\n",
       "      <th>Close_AMZN</th>\n",
       "      <th>Volume_AMZN</th>\n",
       "      <th>Adj Close_AMZN</th>\n",
       "    </tr>\n",
       "    <tr>\n",
       "      <th>Date</th>\n",
       "      <th></th>\n",
       "      <th></th>\n",
       "      <th></th>\n",
       "      <th></th>\n",
       "      <th></th>\n",
       "      <th></th>\n",
       "      <th></th>\n",
       "      <th></th>\n",
       "      <th></th>\n",
       "      <th></th>\n",
       "      <th></th>\n",
       "      <th></th>\n",
       "    </tr>\n",
       "  </thead>\n",
       "  <tbody>\n",
       "    <tr>\n",
       "      <th>2015-01-02</th>\n",
       "      <td>128.309998</td>\n",
       "      <td>124.559998</td>\n",
       "      <td>127.900002</td>\n",
       "      <td>125.849998</td>\n",
       "      <td>207900.0</td>\n",
       "      <td>124.582504</td>\n",
       "      <td>314.750000</td>\n",
       "      <td>306.959991</td>\n",
       "      <td>312.579987</td>\n",
       "      <td>308.519989</td>\n",
       "      <td>2783200</td>\n",
       "      <td>308.519989</td>\n",
       "    </tr>\n",
       "    <tr>\n",
       "      <th>2015-01-05</th>\n",
       "      <td>125.809998</td>\n",
       "      <td>122.760002</td>\n",
       "      <td>124.860001</td>\n",
       "      <td>124.300003</td>\n",
       "      <td>335600.0</td>\n",
       "      <td>123.048119</td>\n",
       "      <td>308.380005</td>\n",
       "      <td>300.850006</td>\n",
       "      <td>307.010010</td>\n",
       "      <td>302.190002</td>\n",
       "      <td>2774200</td>\n",
       "      <td>302.190002</td>\n",
       "    </tr>\n",
       "    <tr>\n",
       "      <th>2015-01-06</th>\n",
       "      <td>126.339996</td>\n",
       "      <td>121.360001</td>\n",
       "      <td>124.930000</td>\n",
       "      <td>122.080002</td>\n",
       "      <td>233900.0</td>\n",
       "      <td>120.850479</td>\n",
       "      <td>303.000000</td>\n",
       "      <td>292.380005</td>\n",
       "      <td>302.239990</td>\n",
       "      <td>295.290009</td>\n",
       "      <td>3519000</td>\n",
       "      <td>295.290009</td>\n",
       "    </tr>\n",
       "    <tr>\n",
       "      <th>2015-01-07</th>\n",
       "      <td>124.290001</td>\n",
       "      <td>121.309998</td>\n",
       "      <td>123.309998</td>\n",
       "      <td>121.839996</td>\n",
       "      <td>227200.0</td>\n",
       "      <td>120.612877</td>\n",
       "      <td>301.279999</td>\n",
       "      <td>295.329987</td>\n",
       "      <td>297.500000</td>\n",
       "      <td>298.420013</td>\n",
       "      <td>2640300</td>\n",
       "      <td>298.420013</td>\n",
       "    </tr>\n",
       "    <tr>\n",
       "      <th>2015-01-08</th>\n",
       "      <td>125.639999</td>\n",
       "      <td>122.550003</td>\n",
       "      <td>123.110001</td>\n",
       "      <td>123.660004</td>\n",
       "      <td>370400.0</td>\n",
       "      <td>122.414551</td>\n",
       "      <td>303.140015</td>\n",
       "      <td>296.109985</td>\n",
       "      <td>300.320007</td>\n",
       "      <td>300.459991</td>\n",
       "      <td>3088400</td>\n",
       "      <td>300.459991</td>\n",
       "    </tr>\n",
       "  </tbody>\n",
       "</table>\n",
       "</div>"
      ],
      "text/plain": [
       "             High_MELI    Low_MELI   Open_MELI  Close_MELI  Volume_MELI  \\\n",
       "Date                                                                      \n",
       "2015-01-02  128.309998  124.559998  127.900002  125.849998     207900.0   \n",
       "2015-01-05  125.809998  122.760002  124.860001  124.300003     335600.0   \n",
       "2015-01-06  126.339996  121.360001  124.930000  122.080002     233900.0   \n",
       "2015-01-07  124.290001  121.309998  123.309998  121.839996     227200.0   \n",
       "2015-01-08  125.639999  122.550003  123.110001  123.660004     370400.0   \n",
       "\n",
       "            Adj Close_MELI   High_AMZN    Low_AMZN   Open_AMZN  Close_AMZN  \\\n",
       "Date                                                                         \n",
       "2015-01-02      124.582504  314.750000  306.959991  312.579987  308.519989   \n",
       "2015-01-05      123.048119  308.380005  300.850006  307.010010  302.190002   \n",
       "2015-01-06      120.850479  303.000000  292.380005  302.239990  295.290009   \n",
       "2015-01-07      120.612877  301.279999  295.329987  297.500000  298.420013   \n",
       "2015-01-08      122.414551  303.140015  296.109985  300.320007  300.459991   \n",
       "\n",
       "            Volume_AMZN  Adj Close_AMZN  \n",
       "Date                                     \n",
       "2015-01-02      2783200      308.519989  \n",
       "2015-01-05      2774200      302.190002  \n",
       "2015-01-06      3519000      295.290009  \n",
       "2015-01-07      2640300      298.420013  \n",
       "2015-01-08      3088400      300.459991  "
      ]
     },
     "execution_count": 18,
     "metadata": {},
     "output_type": "execute_result"
    }
   ],
   "source": [
    "bd_joined.head()\n"
   ]
  },
  {
   "cell_type": "code",
   "execution_count": 19,
   "metadata": {},
   "outputs": [],
   "source": [
    "import matplotlib.pyplot as plt\n"
   ]
  },
  {
   "cell_type": "code",
   "execution_count": 22,
   "metadata": {},
   "outputs": [
    {
     "data": {
      "text/plain": [
       "<AxesSubplot:xlabel='Date'>"
      ]
     },
     "execution_count": 22,
     "metadata": {},
     "output_type": "execute_result"
    },
    {
     "data": {
      "image/png": "[encoded data removed]",
      "text/plain": [
       "<Figure size 432x288 with 1 Axes>"
      ]
     },
     "metadata": {
      "needs_background": "light"
     },
     "output_type": "display_data"
    }
   ],
   "source": [
    "bd_joined.Open_MELI.plot(color = 'yellow')\n",
    "bd_joined.Open_AMZN.plot(color = 'black')"
   ]
  },
  {
   "cell_type": "code",
   "execution_count": null,
   "metadata": {},
   "outputs": [],
   "source": []
  }
 ],
 "metadata": {
  "kernelspec": {
   "display_name": "Python 3",
   "language": "python",
   "name": "python3"
  },
  "language_info": {
   "codemirror_mode": {
    "name": "ipython",
    "version": 3
   },
   "file_extension": ".py",
   "mimetype": "text/x-python",
   "name": "python",
   "nbconvert_exporter": "python",
   "pygments_lexer": "ipython3",
   "version": "3.6.12"
  }
 },
 "nbformat": 4,
 "nbformat_minor": 4
}
